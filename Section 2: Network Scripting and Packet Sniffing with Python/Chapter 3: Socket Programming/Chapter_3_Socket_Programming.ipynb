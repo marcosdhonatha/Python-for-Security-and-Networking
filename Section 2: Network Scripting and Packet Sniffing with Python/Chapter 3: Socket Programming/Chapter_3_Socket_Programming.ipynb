{
  "nbformat": 4,
  "nbformat_minor": 0,
  "metadata": {
    "colab": {
      "provenance": [],
      "authorship_tag": "ABX9TyPogtuTCnUJRM3ZoAO57FVn"
    },
    "kernelspec": {
      "name": "python3",
      "display_name": "Python 3"
    },
    "language_info": {
      "name": "python"
    }
  },
  "cells": [
    {
      "cell_type": "markdown",
      "source": [
        "# Chapter 3: Socket Programming\n",
        "##Table of Contents:\n",
        "* [Technical requirements ](#scrollTo=B9crte0Lso9h&line=3&uniqifier=1)\n",
        "\n",
        "* [Understanding the socket package for network requests](#scrollTo=LS-xZ0EFssFi&line=2&uniqifier=1)\n",
        "\n",
        "* [Network sockets in Python ](#scrollTo=mvu54lIGxtS9&line=1&uniqifier=1)\n",
        "\n",
        "* [The socket module](#scrollTo=7_ZsG_oZ3Cpq&line=9&uniqifier=1)\n",
        "\n",
        "* [Server and client socket methods](#scrollTo=Cm6-ZJeXRQVO&line=1&uniqifier=1)\n",
        "\n",
        "* [Gathering information with sockets](#scrollTo=-ru8OrojeR-L&line=1&uniqifier=1)\n",
        "\n",
        "* Managing socket exceptions • 86\n",
        "\n",
        "* Basic client with the socket module • 87\n",
        "\n",
        "* Port scanning with sockets  88\n",
        "\n",
        "* Implementing a port scanner • 88\n",
        "\n",
        "* Advanced port scanner • 90\n",
        "\n",
        "* Implementing a reverse shell with sockets  93\n",
        "\n",
        "* Implementing a simple TCP client and TCP server  95\n",
        "\n",
        "* Implementing a server and client with sockets • 95\n",
        "\n",
        "* Implementing the TCP server • 97\n",
        "\n",
        "* Implementing the TCP client • 98\n",
        "\n",
        "* Implementing a simple UDP client and UDP server  99\n",
        "\n",
        "* Implementing the UDP server • 100\n",
        "\n",
        "* Implementing the UDP client • 101\n",
        "\n",
        "* Implementing an HTTP server in Python  102\n",
        "\n",
        "* Testing the HTTP server • 103\n",
        "\n",
        "* Sending files via sockets • 104\n",
        "\n",
        "* Implementing secure sockets with the TLS and SSL modules  107\n",
        "\n",
        "* Summary  112\n",
        "\n",
        "* Questions  113\n",
        "\n",
        "* Further reading  113\n",
        "\n",
        "\n",
        "\n"
      ],
      "metadata": {
        "id": "fKBuBE_HpkS3"
      }
    },
    {
      "cell_type": "markdown",
      "source": [
        "## Socket Programming\n",
        "This chapter will showcase networking basics using Python’s socket module. The socket module\n",
        "exposes all the necessary pieces to quickly write TCP and UDP clients and servers for writing\n",
        "low-level network applications. We will also cover implementing a reverse shell with the socket\n",
        "module and implementing secure sockets with TLS.\n",
        "Socket programming refers to an abstract principle by which two programs can share any data\n",
        "stream by using an Application Programming Interface (API) for different protocols available\n",
        "in the internet TCP/IP stack, typically supported by all operating systems. We will also cover\n",
        "implementing HTTP server and socket methods for resolving IP domains and addresses.\n",
        "\n",
        "The following topics will be covered in this chapter:\n",
        "* Understanding the socket package for network requests\n",
        "* Implementing a reverse shell with sockets\n",
        "* Implementing a simple TCP client and TCP server with the socket module\n",
        "* Implementing a simple UDP client and UDP server\n",
        "* Implementing an HTTP server in Python\n",
        "* Implementing secure sockets with TLS"
      ],
      "metadata": {
        "id": "0gXMF2H-q9yJ"
      }
    },
    {
      "cell_type": "markdown",
      "source": [
        "\n",
        "## Technical-requirements\n",
        "\n",
        "To get the most out of this chapter, you will need some basic knowledge of command execution in operating systems. Also, you will need to install the Python distribution on your local machine.\n",
        "We will work with Python version 3.10, available at https://www.python.org/downloads.\n",
        "\n",
        "The examples and source code for this chapter are available in the GitHub repository at https://github.com/PacktPublishing/Python-for-Security-and-Networking.\n",
        "\n",
        "\n",
        "Check out the following video to see the Code in Action: https://packt.link/Chapter03"
      ],
      "metadata": {
        "id": "B9crte0Lso9h"
      }
    },
    {
      "cell_type": "markdown",
      "source": [
        "##Understanding the socket package for network requests\n",
        "\n",
        "Sockets are the main components that allow us to leverage the capabilities of an operating system\n",
        "to interact with a network. You may regard sockets as a point-to-point channel of communication\n",
        "between a client and a server.\n",
        "Network sockets are a simple way of establishing communication between processes on the same\n",
        "machines or on different ones. The socket concept is very similar to the use of file descriptors for\n",
        "UNIX operating systems. Commands such as read() and write() for working with files have\n",
        "similar behavior to dealing with sockets. A socket address for a network consists of an IP address\n",
        "and port number. A socket’s aim is to communicate processes over the network."
      ],
      "metadata": {
        "id": "LS-xZ0EFssFi"
      }
    },
    {
      "cell_type": "markdown",
      "source": [
        "## Network sockets in Python\n",
        "When two applications or processes interact, they use a specific communication channel. Sockets\n",
        "are the endpoints or entry points of these communication channels. We can use sockets to establish a communication channel between two processes, within a process, or between processes\n",
        "on different machines. There are different types of sockets, like TCP sockets, UDP sockets, and\n",
        "UNIX domain sockets.\n",
        "\n",
        "Sockets are internal endpoints for sending or receiving data within a node on a computer. A\n",
        "socket is defined by local and remote IP addresses and ports, and a transport protocol. Creating a\n",
        "socket in Python is done through the socket.socket() method. The general syntax of the socket\n",
        "method is as follows:"
      ],
      "metadata": {
        "id": "mvu54lIGxtS9"
      }
    },
    {
      "cell_type": "markdown",
      "source": [
        "\n",
        "\n",
        "```\n",
        "s = socket.socket (socket_family, socket_type, protocol=0)\n",
        "```\n",
        "\n"
      ],
      "metadata": {
        "id": "NRahczg0ya_T"
      }
    },
    {
      "cell_type": "markdown",
      "source": [
        "The preceding syntax represents the address families and the protocol of the transport layer.\n",
        "\n",
        "Based on the communication type, sockets are classified as follows:\n",
        "* TCP sockets (socket.SOCK_STREAM)\n",
        "* UDP sockets (socket.SOCK_DGRAM)\n",
        "\n",
        "The main difference between TCP and UDP is that TCP is connection-oriented, while UDP is\n",
        "non-connection-oriented. Another important difference between TCP and UDP is that TCP is\n",
        "more reliable than UDP because it checks for errors and ensures data packets are delivered to the\n",
        "communicating application in the correct order. At this point, UDP is faster than TCP because\n",
        "it does not order and check errors in the data packets. Sockets can also be categorized by family.\n",
        "The following options are available:\n",
        "\n",
        "* UNIX sockets (socket.AF_UNIX), which were created before the network definition and are based on data\n",
        "* The socket.AF_INET socket for working with the IPv4 protocol\n",
        "* The socket.AF_INET6 socket for working with the IPv6 protocol\n",
        "\n",
        "\n",
        "There is another socket type called a raw socket. These sockets allow us to access the communication protocols, with the possibility of using layer 3 (network-level) and layer 4 (transport-level)\n",
        "protocols, therefore giving us access to the protocols directly and the information we receive in\n",
        "them. The use of sockets of this type allows us to implement new protocols and modify existing\n",
        "ones, bypassing the normal TCP/IP protocols.\n",
        "\n",
        "As regards the manipulation of network packets, we have specific tools available, such as Scapy\n",
        "(https://scapy.net), a module written in Python for manipulating packets with support for\n",
        "multiple network protocols. This tool allows the creation and modification of network packets\n",
        "of various types, implementing functions for capturing and sniffing packets.\n",
        "Now that we have analyzed what a socket is and its types, we will now move on to introducing\n",
        "the socket module and the functionalities it offers."
      ],
      "metadata": {
        "id": "WG-WleMvyd1z"
      }
    },
    {
      "cell_type": "markdown",
      "source": [
        "## The socket module\n",
        "Types and functions required to work with sockets can be found in Python in the `socket` module.\n",
        "The socket module provides all the required functionalities to quickly write TCP and UDP clients\n",
        "and servers. Also, it provides every function you need to create a socket server or client.\n",
        "When we are working with sockets, most applications use the concept of client/server where\n",
        "there are two applications, one acting as a server and the other as a client, and where both communicate through message-passing using protocols such as TCP or UDP:\n",
        "\n",
        "* Server: This represents an application that is waiting for connection by a client.\n",
        "\n",
        "* Client: This represents an application that connects to the server.\n",
        "\n",
        "In the case of Python, the socket constructor returns an object for working with the socket methods. This module comes installed by default when you install the Python distribution. To check\n",
        "it, we can do so from the Python interpreter:"
      ],
      "metadata": {
        "id": "7_ZsG_oZ3Cpq"
      }
    },
    {
      "cell_type": "markdown",
      "source": [
        "\n",
        "\n",
        "```\n",
        ">>> import socket\n",
        ">>> dir(socket)\n",
        "['__builtins__', '__cached__', '__doc__', '__file__', '__loader__',\n",
        "'__name__', '__package__', '__spec__', '_blocking_errnos', '_intenum_\n",
        "converter', '_realsocket', '_socket', 'close', 'create_connection',\n",
        "'create_server', 'dup', 'errno', 'error', 'fromfd', 'gaierror',\n",
        "'getaddrinfo', 'getdefaulttimeout', 'getfqdn', 'gethostbyaddr',\n",
        "'gethostbyname', 'gethostbyname_ex', 'gethostname', 'getnameinfo',\n",
        "'getprotobyname', 'getservbyname', 'getservbyport', 'has_dualstack_ipv6',\n",
        "'has_ipv6', 'herror', 'htonl', 'htons', 'if_indextoname', 'if_nameindex',\n",
        "'if_nametoindex', 'inet_aton', 'inet_ntoa', 'inet_ntop', 'inet_pton',\n",
        "'io', 'ntohl', 'ntohs', 'os', 'selectors', 'setdefaulttimeout',\n",
        "'sethostname', 'socket', 'socketpair', 'sys', 'timeout']\n",
        "```\n",
        "\n"
      ],
      "metadata": {
        "id": "DP8I5Ec9PV5m"
      }
    },
    {
      "cell_type": "markdown",
      "source": [
        "In the preceding output, we can see all methods that we have available in this module. Among the most-used constants, we can highlight the following:\n",
        "\n",
        "* socket.AF_INET\n",
        "* socket.SOCK_STREAM\n",
        "\n",
        "To open a socket on a certain machine, we use the socket class constructor that accepts the family, socket type, and protocol as parameters. A typical call to create a socket that works at the TCP level is passing the socket family and type as parameters:"
      ],
      "metadata": {
        "id": "wZnikstiPgIc"
      }
    },
    {
      "cell_type": "markdown",
      "source": [
        "\n",
        "\n",
        "```\n",
        ">>> socket.socket(socket.AF_INET,socket.SOCK_STREAM)\n",
        "```\n",
        "\n"
      ],
      "metadata": {
        "id": "1NpgAQRiQT9b"
      }
    },
    {
      "cell_type": "markdown",
      "source": [
        "Out of the main socket methods, we can highlight the following for implementing both clients and servers:\n",
        "\n",
        "* socket.accept() is used to accept connections and returns a value pair as (conn, address).\n",
        "* socket.bind() is used to bind addresses specified as a parameter.\n",
        "* socket.connect() is used to connect to the address specified as a parameter.\n",
        "* socket.listen() is used to listen for commands on the server or client.\n",
        "* socket.recv(buflen) is used for receiving data from the socket. The method argument indicates the maximum amount of data it can receive.\n",
        "* socket.recvfrom(buflen) is used for receiving data and the sender’s address.\n",
        "* socket.recv_into(buffer) is used for receiving data into a buffer.\n",
        "* socket.send(bytes) is used for sending bytes of data to the specified target.\n",
        "* socket.sendto(data, address) is used for sending data to a given address.\n",
        "* socket.sendall(data) is used for sending all the data in the buffer to the socket.\n",
        "* socket.close() is used for releasing the memory and finishes the connection.\n",
        "In this section, we have analyzed the built-in methods available in the socket module and now we will move on to learn about specific methods we can use for the server and client sides."
      ],
      "metadata": {
        "id": "dfO5QJ18QiRK"
      }
    },
    {
      "cell_type": "markdown",
      "source": [
        "## Server and client socket methods\n",
        "\n",
        "In a client-server architecture, there is a central server that provides services to a set of machines that connect to it. These are the main methods we can use from the point of view of the server:\n",
        "\n",
        "* socket.bind(address): This method allows us to connect the address with the socket, with the requirement that the socket must be open before establishing the connection with the address.\n",
        "\n",
        "* socket.listen(count): This method accepts as a parameter the maximum number of connections from clients and starts the TCP listener for incoming connections.\n",
        "\n",
        "* socket.accept(): This method enables us to accept client connections and returns a tuple with two values that represent client_socket and client_address. You need to call the socket.bind() and socket.listen() methods before using this method.\n",
        "\n",
        "From the client’s point of view, these are the socket methods we can use in our socket client for connecting with the server:\n",
        "\n",
        "* socket.connect(ip_address): This method connects the client to the server’s IP address.\n",
        "\n",
        "* socket.connect_ext(ip_address): This method has the same functionality as the previous method and offers the possibility of returning an error in the event of not being able to connect with that address.\n",
        "\n",
        "The socket.connect_ex(address) method is very useful for implementing port scanning with sockets. The following script shows ports that are open on the localhost machine with the loopback IP address interface of 127.0.0.1. You can find the following code in the socket_ports_open.py file:"
      ],
      "metadata": {
        "id": "Cm6-ZJeXRQVO"
      }
    },
    {
      "cell_type": "code",
      "source": [
        "import socket\n",
        "ip ='127.0.0.1'\n",
        "portlist = [21,22,23,80]\n",
        "\n",
        "for port in portlist:\n",
        "  sock= socket.socket(socket.AF_INET,socket.SOCK_STREAM)\n",
        "  result = sock.connect_ex((ip,port))\n",
        "  print(port,\":\", result)\n",
        "  sock.close()"
      ],
      "metadata": {
        "colab": {
          "base_uri": "https://localhost:8080/"
        },
        "id": "EX-iMNWEXqcU",
        "outputId": "d3abc8ef-63e1-46b4-ede1-2258b2a3c64c"
      },
      "execution_count": 16,
      "outputs": [
        {
          "output_type": "stream",
          "name": "stdout",
          "text": [
            "21 : 111\n",
            "22 : 111\n",
            "23 : 111\n",
            "80 : 111\n"
          ]
        }
      ]
    },
    {
      "cell_type": "markdown",
      "source": [
        "The preceding code is checking ports for ftp, ssh, telnet, and http services in the localhost interface. The following could be the output of the previous script where the result for each port is a number that represents whether the port is open or not. In this execution, port 80 returns value 0, which means the port is open. All other ports return a non-zero value, meaning that the\n",
        "ports are closed:"
      ],
      "metadata": {
        "id": "Dp-lCmtnYXWv"
      }
    },
    {
      "cell_type": "markdown",
      "source": [
        "Sockets can also be used to communicate with a web server, a mail server, or many other types of servers. All that is needed is to find the document that describes the corresponding protocol and write the code to send and receive the data according to that protocol. The following example shows how to make a low-level network connection with sockets.\n",
        "\n",
        "In the following script, we are making a connection to a web server that listens on port 80 and we access a specific route within this server to request a text document. You can find the following code in the socket_web_server.py file:"
      ],
      "metadata": {
        "id": "XO2SxyL-auio"
      }
    },
    {
      "cell_type": "code",
      "source": [
        "import socket\n",
        "sock = socket.socket(socket.AF_INET, socket.SOCK_STREAM)\n",
        "sock.connect(('ftp.debian.org', 80))\n",
        "cmd = 'GET http://ftp.debian.org/debian/README.mirrors.txt HTTP/1.0\\r\\n\\r\\n'.encode()\n",
        "sock.send(cmd)\n",
        "while True:\n",
        "  data = sock.recv(512)\n",
        "  if len(data) < 1:\n",
        "    break\n",
        "  print(data.decode(),end='')\n",
        "sock.close()"
      ],
      "metadata": {
        "colab": {
          "base_uri": "https://localhost:8080/"
        },
        "id": "G20mDzQDbIuA",
        "outputId": "1172d61d-c6e1-45e9-b03b-e2f9c7757e4b"
      },
      "execution_count": 22,
      "outputs": [
        {
          "output_type": "stream",
          "name": "stdout",
          "text": [
            "HTTP/1.1 200 OK\r\n",
            "Connection: close\r\n",
            "Content-Length: 86\r\n",
            "Server: Apache\r\n",
            "X-Content-Type-Options: nosniff\r\n",
            "X-Frame-Options: sameorigin\r\n",
            "Referrer-Policy: no-referrer\r\n",
            "X-Xss-Protection: 1\r\n",
            "Permissions-Policy: interest-cohort=()\r\n",
            "Last-Modified: Sat, 04 Mar 2017 20:08:51 GMT\r\n",
            "ETag: \"56-549ed3b25abfb\"\r\n",
            "X-Clacks-Overhead: GNU Terry Pratchett\r\n",
            "Content-Type: text/plain; charset=utf-8\r\n",
            "Accept-Ranges: bytes\r\n",
            "Date: Fri, 08 Mar 2024 14:28:17 GMT\r\n",
            "Via: 1.1 varnish\r\n",
            "Age: 16\r\n",
            "X-Served-By: cache-ams12722-AMS\r\n",
            "X-Cache: HIT\r\n",
            "X-Cache-Hits: 1\r\n",
            "X-Timer: S1709908098.665401,VS0,VE2\r\n",
            "Vary: Accept-Encoding\r\n",
            "\r\n",
            "The list of Debian mirror sites is available here: https://www.debian.org/mirror/list\n"
          ]
        }
      ]
    },
    {
      "cell_type": "markdown",
      "source": [
        "The execution of the previous script begins with the header the server sends to describe the document. For example, the Content-Type header indicates that the document is a text/plain document. Once the server sends the header, it adds a blank line to indicate the end of the header and then sends the file data using a GET request:"
      ],
      "metadata": {
        "id": "89cW3RALc2CQ"
      }
    },
    {
      "cell_type": "markdown",
      "source": [
        "\n",
        "\n",
        "```\n",
        "HTTP/1.1 200 OK\n",
        "Connection: close\n",
        "Content-Length: 86\n",
        "Server: Apache\n",
        "X-Content-Type-Options: nosniff\n",
        "X-Frame-Options: sameorigin\n",
        "Referrer-Policy: no-referrer\n",
        "X-Xss-Protection: 1\n",
        "Permissions-Policy: interest-cohort=()\n",
        "Last-Modified: Sat, 04 Mar 2017 20:08:51 GMT\n",
        "ETag: \"56-549ed3b25abfb\"\n",
        "X-Clacks-Overhead: GNU Terry Pratchett\n",
        "Content-Type: text/plain; charset=utf-8\n",
        "Accept-Ranges: bytes\n",
        "Date: Fri, 08 Mar 2024 14:27:45 GMT\n",
        "Via: 1.1 varnish\n",
        "Age: 104\n",
        "X-Served-By: cache-ams12762-AMS\n",
        "X-Cache: HIT\n",
        "\n",
        "X-Cache-Hits: 1\n",
        "X-Timer: S1709908065.176569,VS0,VE3\n",
        "Vary: Accept-Encoding\n",
        "\n",
        "The list of Debian mirror sites is available here: https://www.debian.org/mirror/list\n",
        "\n",
        "\n",
        "```\n",
        "\n"
      ],
      "metadata": {
        "id": "6aoK_VDPdqyC"
      }
    },
    {
      "cell_type": "markdown",
      "source": [
        "## Gathering information with sockets\n",
        "\n",
        "The socket module provides us with a series of methods that can be useful if we need to convert a hostname into an IP address and vice versa. Useful methods for gathering more information about an IP address or hostname include the following:\n",
        "\n",
        "* socket.gethostbyname(hostname): This method returns a string converting a hostname to the IPv4 address format."
      ],
      "metadata": {
        "id": "-ru8OrojeR-L"
      }
    }
  ]
}