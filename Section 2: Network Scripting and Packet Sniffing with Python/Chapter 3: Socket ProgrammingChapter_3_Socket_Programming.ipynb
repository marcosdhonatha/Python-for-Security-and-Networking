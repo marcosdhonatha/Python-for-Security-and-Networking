{
  "nbformat": 4,
  "nbformat_minor": 0,
  "metadata": {
    "colab": {
      "provenance": [],
      "authorship_tag": "ABX9TyM71pp85YVbAWCIShs30pyL"
    },
    "kernelspec": {
      "name": "python3",
      "display_name": "Python 3"
    },
    "language_info": {
      "name": "python"
    }
  },
  "cells": [
    {
      "cell_type": "markdown",
      "source": [
        "# Chapter 3: Socket Programming\n",
        "##Table of Contents:\n",
        "* [Technical requirements ](#scrollTo=B9crte0Lso9h&line=3&uniqifier=1)\n",
        "\n",
        "* [Understanding the socket package for network requests](#scrollTo=LS-xZ0EFssFi&line=2&uniqifier=1)\n",
        "\n",
        "* [Network sockets in Python ](#scrollTo=mvu54lIGxtS9&line=1&uniqifier=1)\n",
        "\n",
        "* [The socket module](#scrollTo=7_ZsG_oZ3Cpq&line=9&uniqifier=1)\n",
        "\n",
        "* Server and client socket methods • 81\n",
        "\n",
        "* Gathering information with sockets • 83\n",
        "\n",
        "* Managing socket exceptions • 86\n",
        "\n",
        "* Basic client with the socket module • 87\n",
        "\n",
        "* Port scanning with sockets  88\n",
        "\n",
        "* Implementing a port scanner • 88\n",
        "\n",
        "* Advanced port scanner • 90\n",
        "\n",
        "* Implementing a reverse shell with sockets  93\n",
        "\n",
        "* Implementing a simple TCP client and TCP server  95\n",
        "\n",
        "* Implementing a server and client with sockets • 95\n",
        "\n",
        "* Implementing the TCP server • 97\n",
        "\n",
        "* Implementing the TCP client • 98\n",
        "\n",
        "* Implementing a simple UDP client and UDP server  99\n",
        "\n",
        "* Implementing the UDP server • 100\n",
        "\n",
        "* Implementing the UDP client • 101\n",
        "\n",
        "* Implementing an HTTP server in Python  102\n",
        "\n",
        "* Testing the HTTP server • 103\n",
        "\n",
        "* Sending files via sockets • 104\n",
        "\n",
        "* Implementing secure sockets with the TLS and SSL modules  107\n",
        "\n",
        "* Summary  112\n",
        "\n",
        "* Questions  113\n",
        "\n",
        "* Further reading  113\n",
        "\n",
        "\n",
        "\n"
      ],
      "metadata": {
        "id": "fKBuBE_HpkS3"
      }
    },
    {
      "cell_type": "markdown",
      "source": [
        "## Socket Programming\n",
        "This chapter will showcase networking basics using Python’s socket module. The socket module\n",
        "exposes all the necessary pieces to quickly write TCP and UDP clients and servers for writing\n",
        "low-level network applications. We will also cover implementing a reverse shell with the socket\n",
        "module and implementing secure sockets with TLS.\n",
        "Socket programming refers to an abstract principle by which two programs can share any data\n",
        "stream by using an Application Programming Interface (API) for different protocols available\n",
        "in the internet TCP/IP stack, typically supported by all operating systems. We will also cover\n",
        "implementing HTTP server and socket methods for resolving IP domains and addresses.\n",
        "\n",
        "The following topics will be covered in this chapter:\n",
        "* Understanding the socket package for network requests\n",
        "* Implementing a reverse shell with sockets\n",
        "* Implementing a simple TCP client and TCP server with the socket module\n",
        "* Implementing a simple UDP client and UDP server\n",
        "* Implementing an HTTP server in Python\n",
        "* Implementing secure sockets with TLS"
      ],
      "metadata": {
        "id": "0gXMF2H-q9yJ"
      }
    },
    {
      "cell_type": "markdown",
      "source": [
        "\n",
        "## Technical-requirements\n",
        "\n",
        "To get the most out of this chapter, you will need some basic knowledge of command execution in operating systems. Also, you will need to install the Python distribution on your local machine.\n",
        "We will work with Python version 3.10, available at https://www.python.org/downloads.\n",
        "\n",
        "The examples and source code for this chapter are available in the GitHub repository at https://github.com/PacktPublishing/Python-for-Security-and-Networking.\n",
        "\n",
        "\n",
        "Check out the following video to see the Code in Action: https://packt.link/Chapter03"
      ],
      "metadata": {
        "id": "B9crte0Lso9h"
      }
    },
    {
      "cell_type": "markdown",
      "source": [
        "##Understanding the socket package for network requests\n",
        "\n",
        "Sockets are the main components that allow us to leverage the capabilities of an operating system\n",
        "to interact with a network. You may regard sockets as a point-to-point channel of communication\n",
        "between a client and a server.\n",
        "Network sockets are a simple way of establishing communication between processes on the same\n",
        "machines or on different ones. The socket concept is very similar to the use of file descriptors for\n",
        "UNIX operating systems. Commands such as read() and write() for working with files have\n",
        "similar behavior to dealing with sockets. A socket address for a network consists of an IP address\n",
        "and port number. A socket’s aim is to communicate processes over the network."
      ],
      "metadata": {
        "id": "LS-xZ0EFssFi"
      }
    },
    {
      "cell_type": "markdown",
      "source": [
        "## Network sockets in Python\n",
        "When two applications or processes interact, they use a specific communication channel. Sockets\n",
        "are the endpoints or entry points of these communication channels. We can use sockets to establish a communication channel between two processes, within a process, or between processes\n",
        "on different machines. There are different types of sockets, like TCP sockets, UDP sockets, and\n",
        "UNIX domain sockets.\n",
        "\n",
        "Sockets are internal endpoints for sending or receiving data within a node on a computer. A\n",
        "socket is defined by local and remote IP addresses and ports, and a transport protocol. Creating a\n",
        "socket in Python is done through the socket.socket() method. The general syntax of the socket\n",
        "method is as follows:"
      ],
      "metadata": {
        "id": "mvu54lIGxtS9"
      }
    },
    {
      "cell_type": "markdown",
      "source": [
        "\n",
        "\n",
        "```\n",
        "s = socket.socket (socket_family, socket_type, protocol=0)\n",
        "```\n",
        "\n"
      ],
      "metadata": {
        "id": "NRahczg0ya_T"
      }
    },
    {
      "cell_type": "markdown",
      "source": [
        "The preceding syntax represents the address families and the protocol of the transport layer.\n",
        "\n",
        "Based on the communication type, sockets are classified as follows:\n",
        "* TCP sockets (socket.SOCK_STREAM)\n",
        "* UDP sockets (socket.SOCK_DGRAM)\n",
        "\n",
        "The main difference between TCP and UDP is that TCP is connection-oriented, while UDP is\n",
        "non-connection-oriented. Another important difference between TCP and UDP is that TCP is\n",
        "more reliable than UDP because it checks for errors and ensures data packets are delivered to the\n",
        "communicating application in the correct order. At this point, UDP is faster than TCP because\n",
        "it does not order and check errors in the data packets. Sockets can also be categorized by family.\n",
        "The following options are available:\n",
        "\n",
        "* UNIX sockets (socket.AF_UNIX), which were created before the network definition and are based on data\n",
        "* The socket.AF_INET socket for working with the IPv4 protocol\n",
        "* The socket.AF_INET6 socket for working with the IPv6 protocol\n",
        "\n",
        "\n",
        "There is another socket type called a raw socket. These sockets allow us to access the communication protocols, with the possibility of using layer 3 (network-level) and layer 4 (transport-level)\n",
        "protocols, therefore giving us access to the protocols directly and the information we receive in\n",
        "them. The use of sockets of this type allows us to implement new protocols and modify existing\n",
        "ones, bypassing the normal TCP/IP protocols.\n",
        "\n",
        "As regards the manipulation of network packets, we have specific tools available, such as Scapy\n",
        "(https://scapy.net), a module written in Python for manipulating packets with support for\n",
        "multiple network protocols. This tool allows the creation and modification of network packets\n",
        "of various types, implementing functions for capturing and sniffing packets.\n",
        "Now that we have analyzed what a socket is and its types, we will now move on to introducing\n",
        "the socket module and the functionalities it offers."
      ],
      "metadata": {
        "id": "WG-WleMvyd1z"
      }
    },
    {
      "cell_type": "markdown",
      "source": [
        "## The socket module\n",
        "Types and functions required to work with sockets can be found in Python in the `socket` module.\n",
        "The socket module provides all the required functionalities to quickly write TCP and UDP clients\n",
        "and servers. Also, it provides every function you need to create a socket server or client.\n",
        "When we are working with sockets, most applications use the concept of client/server where\n",
        "there are two applications, one acting as a server and the other as a client, and where both communicate through message-passing using protocols such as TCP or UDP:\n",
        "\n",
        "* Server: This represents an application that is waiting for connection by a client.\n",
        "\n",
        "* Client: This represents an application that connects to the server."
      ],
      "metadata": {
        "id": "7_ZsG_oZ3Cpq"
      }
    }
  ]
}