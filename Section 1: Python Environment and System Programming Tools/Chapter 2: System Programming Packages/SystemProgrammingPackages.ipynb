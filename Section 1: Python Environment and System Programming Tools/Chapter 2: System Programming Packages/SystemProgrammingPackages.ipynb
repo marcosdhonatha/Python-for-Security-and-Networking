# **System Programming Packages**
In this chapter, we continue to move forward with learning about the different ways to interact with the operating system (OS) and the filesystem. The knowledge you will gain from this chapter about the different programming packages will prove to be very useful in automating certain tasks that can increase the efficiency of our scripts.

Throughout this chapter, we will look at the main modules we can find in Python for working
with the operating and filesystem. Also, we will review how to work with the subprocess module
for command execution. Finally, we’ll review thread management and other modules for multithreading and concurrency. The following topics will be covered in this chapter:

* Interact with the OS in Python
* Work with the file system in Python
* Executing commands with the subprocess module
* Work with threads in Python
* Multithreading and concurrency in Python


### **Technical requirements**

You will need some basic knowledge about command execution in operating systems to get the
most out of this chapter. Also, before you begin, install the Python distribution on your local
machine. We will work with Python version 3.10, which is available at https://www.python.org/downloads.

Some of the examples in this chapter require the installation of the following programs:

```
Nmap port scanner: https://nmap.org/
```
The examples and source code for this chapter are available in the GitHub repository at https://github.com/PacktPublishing/python-for-Security-and-Networking.
Check out the following video to see the Code in Action: https://packt.link/Chapter02.

### **Interact with the operating system in Python**

The OS module is one of the best mechanisms to access the different functions in our operating system. Your use of this module will depend on which operating system is being used. For example, you need to use different commands depending on whether you are executing on Windows or Linux operating system because the filesystems are different.

This module enables us to interact with the operating environment, filesystem, and permissions.
You can find the following code in the check_filename.py file in the os_module subfolder:

```
import sys
import os
if len(sys.argv) == 2:
filename = sys.argv[1]
if not os.path.isfile(filename):
print('[-] ' + filename + ' does not exist.')
exit(0)
if not os.access(filename, os.R_OK):
print('[-] ' + filename + ' access denied.')
exit(0)
```
In the previous code, we check whether the name of a text file passed as a command-line argument exists as a file, and if the current user has read permissions to that file.



```
$ python check_filename.py file_not_exits.py
file_not_exits.py
[+] file_not_exits.py does not exist.
```

Besides this, we can also use the os module to list the contents of the current working directory
with the `os.getcwd()` method. You can find the following code in the show_content_directory.
py file in the os_module subfolder:

```
import os
pwd = os.getcwd()
list_directory = os.listdir(pwd)
for directory in list_directory:
  print('[+] ',directory)
```


These are the main steps for the previous code:
* Call the `os.getcwd()` method to retrieve the current working directory path and store
that value on the pwd variable.
* Call the `os.listdir()` method to obtain the filenames and directories in the current
working directory.
* Iterate over the list directory to get the files and directories.

The following are the main methods for recovering information from the os module:
* `os.system()` allows us to execute a shell command.
* `os.listdir(path)` returns a list with the contents of the directory passed as an argument.
* `os.walk(path)` navigates all the directories in the provided path directory, and returns
three values: the path directory, the names of the subdirectories, and a list of filenames
in the current directory path


Let’s understand how the `os.listdir(path)` and `os.walk(path)` methods work. In the following example, we check the files and directories inside the current path. You can find the following code in the check_files_directory.py file in the os_module subfolder:


```
import os
for root, directories, files in os.walk(".",topdown=False):
  # Iterate over the files in the current "root"
  for file_entry in files:
    # create the relative path to the file
    print('[+] ',os.path.join(root,file_entry))
    for name in directories:
      print('[++] ',name)
```

Python comes with two different functions that can return a list of files. The first option is to use the `os.listdir()` method. This method offers the possibility to pass a specific path as a parameter. If you don’t pass a file path parameter, you’ll get the names of the files in the current directory.

The other alternative is to use the `os.walk()` method,  which acts as a generator function. That is, when executed, it returns a generator object, which implements the iteration protocol.

In each iteration, this method returns a tuple containing three elements:
* The current path as a directory name
* A list of subdirectory names
* A list of non-directory filenames

So, it’s typical to invoke os.walk such that each of these three elements is assigned to a separate
variable in the for loop:

```
>>> import os
>>> for currentdir, dirnames, filenames in os.walk('.'):
... print(filenames)
```

The previous for loop will continue while subdirectories are processing in the current directory.
For example, the previous code will print all the subdirectories under the current directory.

In the following example, we are using the os.walk() method for counting the number of files
under the current directory. You can find the following code in the count_files_directory.py
file in the os_module subfolder:


```
import os
file_count = 0
for currentdir, dirnames, filenames in os.walk('.'):
  file_count += len(filenames)
print("The number of files in current directory are:",file_count)
```

In the preceding code, we initialize the file_count variable and increment every time we find a filename inside the current directory.


In the following example, we are counting how many files there are of each type. For this task, we can use the os.path.splitext(filename) method, which returns the filename and the extension itself.

You can count the items using the Counter class from the collections module.
You can find the following code in the count_files_extension_directory.py file in the os_module subfolder:

```
import os
from collections import Counter
counts = Counter()
for currentdir, dirnames, filenames in os.walk('.'):
  for filename in filenames:
  first_part, extension = os.path.splitext(filename)
  counts[extension] += 1
for extension, count in counts.items():
  print(f"{extension:8}{count}")

```



#**pag 48**








